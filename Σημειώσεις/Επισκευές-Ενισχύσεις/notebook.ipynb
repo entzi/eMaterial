{
  "cells": [
    {
      "metadata": {
        "_cell_guid": "89a93378-b617-41b9-82e8-19852f2887c1",
        "_uuid": "5b8792ec8d60ff9ce090d7394400aa707b8a19b5",
        "collapsed": true,
        "trusted": true
      },
      "cell_type": "code",
      "source": "%matplotlib inline\nimport math\nimport numpy as np\nimport matplotlib.pyplot as plt\nfrom IPython.display import Latex, HTML\nfrom IPython import display \n\nfrom sympy.solvers import solve\nfrom sympy import Symbol",
      "execution_count": 1,
      "outputs": []
    },
    {
      "metadata": {
        "_cell_guid": "29349df0-e42d-43bf-9623-4a9dd99c3ae8",
        "_uuid": "e18bb484584ea7d4569f6d73853b6dce7a75ef52"
      },
      "cell_type": "markdown",
      "source": "## Δεδομένα διατομής δοκού"
    },
    {
      "metadata": {
        "_cell_guid": "bb88536e-fedf-4fcf-a21f-5ec13f1bb048",
        "_uuid": "4dd6a47d026ab9113e3535f69538b8b441688d41",
        "collapsed": true,
        "trusted": true
      },
      "cell_type": "code",
      "source": "# Σκυρόδεμα\nfc = 20000.0          # KPa\nEc = 30000000.0       # KPa\n\n# Χάλυβας διαμήκους οπλισμού\nfy = 575000.0         # KPa\nEs = 200000000.0      # KPa\n\n# Χάλυβας εγκάρσιου οπλισμού\nfyw = 575000.0        # KPa\nEsw = 200000000.0     # KPa\n\nb = 0.25              # Πάχος (m)\nh = 0.70              # Ύψος δοκού (m)\nd1 = 0.05            # \"Επικάλυψη\" εφεκλυόμενου οπλισμού (m)\nd2 = 0.048            # \"Επικάλυψη\" θλιβόμενου οπλισμού (m)\nAs1 = 10.18           # Εμβαδό εφεκλυόμενου οπλισμού (cm2). Στον ΚΑΝ.ΕΠΕ. As\nAs2 = 4.62            # Εμβαδό θλιβόμενου οπλισμού (cm2). Στον ΚΑΝ.ΕΠΕ. As'\nAsv = 0               # Εμβαδό ενδιάμεσου οπλισμού (cm2)\nAsw = 1.01            # Εμβαδό εγκάρσιου οπλισμού (cm2)\ns = 0.160              # Απόσταση μεταξύ των συνδετήρων (m)  \ndb = 0.018            # Διάμετρος διαμήκων ράβδων (m)\ndw = 0.008            # Διάμετρος συνδετήρων (m)\n\nN = 0.0               # Αξονικό φορτίο\n\nLs = 1.75",
      "execution_count": 2,
      "outputs": []
    },
    {
      "metadata": {
        "_cell_guid": "5a70324c-bf36-44e9-9b20-b084d2f161c5",
        "_uuid": "623443b53a3a426ec99709f2cb6befe78527d4b2"
      },
      "cell_type": "markdown",
      "source": "## Λύση"
    },
    {
      "metadata": {
        "_cell_guid": "df3fb346-5408-416a-85c2-52163c26362e",
        "_uuid": "beb5c56f5c106b424d64640ea4fb1b97d76ef517"
      },
      "cell_type": "markdown",
      "source": "### Βοηθητικές συναρτήσεις"
    },
    {
      "metadata": {
        "_cell_guid": "91f1dab3-fa9a-46d3-a0a3-dfc9cdb1a794",
        "_uuid": "36e4cdb7f0d147f28751a8648cb19b27523d2d4b",
        "collapsed": true,
        "trusted": true
      },
      "cell_type": "code",
      "source": "# Ποσοστά οπλισμού\ndef ρ_calc(A, b, d):\n    return A/(b*d)\n\n\n# Μηχανικά ποσοστά οπλισμού\ndef ω_calc(A, b, d, fy, fc):\n    return A/(b*d)*(fy/fc)\n\n\n# Υπολογισμός σημείου διαρροής\n# --------------------------------------------\n# Ανηγμένο ύψος θλιβόμενης ζώνης\ndef ξy(α, A, B):\n    return math.pow((math.pow(α, 2) * math.pow(A, 2) + 2 * α * B), 0.5) - α * A\n\n# --------------------------------------------\n# Διαρροή λόγω χάλυβα\ndef A_steel(ρ1, ρ2, ρv, N, b, d, fy):\n    return ρ1+ρ2+ρv+N/(b*d*fy)\n\n\ndef B_steel(ρ1, ρ2, ρv, N, b, d, δ_ton, fy):\n    return ρ1 + ρ2 * δ_ton + 0.5 * ρv * (1 + δ_ton) + N / (b * d* fy)\n\n\ndef φy_steel(fy, Es, ξy, d):\n    return fy/(Es*(1.0-ξy)*d)\n\n\n# --------------------------------------------\n# Διαρροή λόγω σκυροδέματος\ndef A_conc(ρ1, ρ2, ρv, N, b, d, α, fc):\n    return ρ1 + ρ2 + ρv - N / (1.8 * α * b * d * fc)\n\n\ndef B_conc(ρ1, ρ2, ρv, N, b, d, δ_ton):\n    return ρ1 + ρ2 * δ_ton + 0.5 * ρv * (1 + δ_ton)\n\n\ndef φy_conc(fc, Ec, ξy, d):\n    return 1.8*fc/(Ec*ξy*d)\n\n\n# --------------------------------------------\n# Ροπή διαρροής My\ndef Mycalc(b, d, φy, Ec, ξy, δtonos, ρ1, ρ2, ρv, Es):\n    return b*math.pow(d, 3)*φy*(0.5*Ec*math.pow(ξy, 2)*(0.5*(1+δtonos)-ξy/3)+((1-ξy)*ρ1+(ξy-δtonos)* ρ2+ρv*(1-δtonos)/6)*(1-δtonos)*Es/2)  \n\n\n# Στροφή διαρροής θy\n# (fy και fc σε MPa)\ndef θycalc(φy, Ls, av, z, h, db, fy, fc):\n    return φy*(Ls+av*z)/3+0.0014*(1+1.5*h/Ls)+φy*db*fy /(8*math.pow(fc,0.5))\n\n\n# Τέμνουσα που αντιστοιχεί σε λογή ρηγμάτωση. Χρησιμοποιείται το VRdc από EC2\ndef VRdc(b, d, h, ρ1, γc, fc, N):\n    CRdc = 0.18/γc\n    k = min(2,1 + math.pow(200/(d), 0.5))\n    ρl = min(0.02, ρ1)\n    k1 = 0.15\n    σcp = N/(b * h)\n    vmin=0.035*math.pow(k,1.5)*math.pow(fc,0.5)\n    VRdc1 = (CRdc*k*math.pow((100*ρl*fc),(1/3))+k1*σcp)*b*d\n    VRdc2 = (vmin+k1*σcp)*b*d\n    return max(VRdc1, VRdc2)\n\n\n# Τέμνουσα αντοχής\ndef VRcalc(h, x, Ls , N, Ac, fc, μθpl, ρtot, αs, Vw):\n    # Η σχέση θέλει MN και m. Αποτέλεσμα σε MN\n    # Θετική η θλίψη, 0 ο εφελκυσμός\n    if N < 0: N = 0\n    part1 = ((h-x)/(2*Ls))*min(N, 0.55*Ac*fc)\n    part2 = 1-0.05*min(5, μθpl)\n    part3 = 0.16*max(0.5, 100*ρtot)*(1-0.16*min(5,αs))*math.pow(fc, 0.5)*Ac + Vw\n    return part1 + part2 * part3\n\n\n# Τέμνουσα που παραλαμβάνουν οι συνδετήρες\ndef Vwcalc(ρw, bw, z, fyw):\n    return ρw * bw * z * fyw\n\n\n# Στροφή αστοχίας\ndef θumcalc(ν, ω1, ω2, αs, α, ρs, ρd, fc, fyw):\n    part1=math.pow((fc * max(0.01, ω2) / max(0.01, ω1)), 0.225)\n    part2=math.pow(αs, 0.35)\n    part3=math.pow(25.0, (α * ρs * fyw / fc))\n    part4=math.pow(1.25, (100 * ρd))\n    \n    return 0.016 * math.pow(0.3, ν) * part1 * part2 * part3 * part4",
      "execution_count": 3,
      "outputs": []
    },
    {
      "metadata": {
        "_cell_guid": "10363836-280a-4dea-88d7-bf1707d39096",
        "_uuid": "e27845ea20b330410561810328b6345c8f2fef4c"
      },
      "cell_type": "markdown",
      "source": "### Βοηθητικά στοιχεία της διατομής"
    },
    {
      "metadata": {
        "_cell_guid": "dfde6e12-77d4-41da-ba72-a9ec55124534",
        "_uuid": "f8b4d6ae7cd130758d3d53594b223ebd37ddae9c",
        "trusted": true
      },
      "cell_type": "code",
      "source": "# Στατικό ύψος\nd = h - d1\n\n# δ'\nδtonos = d2/d\n\n# Μοχλοβραχίονας εσωτερικών δυνάμεων\nz = d-d2\n\n# Λόγος διάτμησης\nαs = Ls / h\n\n# Ποσοστά διαμήκους οπλισμού\nρ1 = ρ_calc(As1, (b * 100), (d * 100))      # Στον ΚΑΝ.ΕΠΕ. ρ\nρ2 = ρ_calc(As2, (b * 100), (d * 100))      # Στον ΚΑΝ.ΕΠΕ. ρ'\nρv = ρ_calc(Asv, (b * 100), (d * 100)) \nρtot = ρ1 + ρ2 + ρv\n\n# Ποσοστό εγκάρσιου οπλισμού\nρw=ρ_calc(Asw, (b*100), (s*100)) \n\n# Μηχανικά ποσοστά οπλισμού\nω1 = ω_calc(As1+Asv, (b*100), (d*100), fy, fc)      # Στον ΚΑΝ.ΕΠΕ. ω\nω2 = ω_calc(As2, (b*100), (d*100), fy, fc)      # Στον ΚΑΝ.ΕΠΕ. ω'\nωtot = ω1 + ω2\n\nprint(\"d=\" + \"{0:.3f}\".format(d) + \"m\") \n\nprint(\"δ'=\" + \"{0:.3f}\".format(δtonos))\nprint(\"z=\" + \"{0:.3f}\".format(z) + \"m\") \n\nprint(\"αs=\" + \"{0:.2f}\".format(αs)) \n\nprint(\"ρ1=\" + \"{0:.5f}\".format(ρ1)) \nprint(\"ρ2=\" + \"{0:.5f}\".format(ρ2)) \nprint(\"ρv=\" + \"{0:.5f}\".format(ρv)) \nprint(\"ρtot=\" + \"{0:.5f}\".format(ρtot)) \n\nprint(\"ρw=\" + \"{0:.5f}\".format(ρw)) \n\n\nprint(\"ω1=\" + \"{0:.3f}\".format(ω1)) \nprint(\"ω2=\" + \"{0:.3f}\".format(ω2)) \nprint(\"ωtot=\" + \"{0:.3f}\".format(ωtot)) \n\n\nsh=s-dw\nbc=b-2*d1              # Να τα κάνω με λίγη καλύτερη ακρίβεια\nhc=h-d1-d2             # Να τα κάνω με λίγη καλύτερη ακρίβεια\n\nν=N/(b*h*fc)",
      "execution_count": 4,
      "outputs": [
        {
          "name": "stdout",
          "output_type": "stream",
          "text": "d=0.650m\nδ'=0.074\nz=0.602m\nαs=2.50\nρ1=0.00626\nρ2=0.00284\nρv=0.00000\nρtot=0.00911\nρw=0.00252\nω1=0.180\nω2=0.082\nωtot=0.262\n"
        }
      ]
    },
    {
      "metadata": {
        "_cell_guid": "d9a46a3f-d2c4-4ef4-be6d-f84204e6cf96",
        "_uuid": "16f5b3a6568751b1094c101e755cfcb514a1dfb0",
        "trusted": true
      },
      "cell_type": "code",
      "source": "Latex(\"$d = h - d_1 = {0:.3f}m - {1:.3f}m = {2:.3f}m\".format(h, d1, d) + \"$\")",
      "execution_count": 5,
      "outputs": [
        {
          "data": {
            "text/latex": "$d = h - d_1 = 0.700m - 0.050m = 0.650m$",
            "text/plain": "<IPython.core.display.Latex object>"
          },
          "execution_count": 5,
          "metadata": {},
          "output_type": "execute_result"
        }
      ]
    },
    {
      "metadata": {
        "_cell_guid": "13efbedc-a11a-4f34-9b99-941ebd967229",
        "_uuid": "1d99130b56dab67af222bf8cd0842e2ab582e3b8",
        "trusted": true
      },
      "cell_type": "code",
      "source": "# Latex(\"$δ' = d_2 / d = {0:.3f}m / {1:.3f}m = {2:.3f}\".format(d2, d, δtonos) + \"$\")\nLatex(\"$δ' = \\dfrac{d_2}{d} = \\dfrac{%.3fm}{%.3fm} = %.3f\" % (d2, d, δtonos) + \"$\")",
      "execution_count": 6,
      "outputs": [
        {
          "data": {
            "text/latex": "$δ' = \\dfrac{d_2}{d} = \\dfrac{0.048m}{0.650m} = 0.074$",
            "text/plain": "<IPython.core.display.Latex object>"
          },
          "execution_count": 6,
          "metadata": {},
          "output_type": "execute_result"
        }
      ]
    },
    {
      "metadata": {
        "_cell_guid": "83215ce2-454e-4ce0-a1e6-c1c54be3f71c",
        "_uuid": "05cd92782107aa76ae2336c1c31c34a64c4ac803"
      },
      "cell_type": "markdown",
      "source": "### Υπολογισμός καμπυλότητας διαρροής"
    },
    {
      "metadata": {
        "_cell_guid": "c0bc0688-e1b1-460c-864f-e7ffaf8502c0",
        "_uuid": "feb13c467338bab20e8f44ab359d21920bbc39e8"
      },
      "cell_type": "markdown",
      "source": "Αν η διαρροή διατοµής οφείλεται σε διαρροή του εφελκυόµενου οπλισµού, τότε:\n\n$φ_y=\\dfrac{f_y}{E_s(1-ξ_y)d}$\n\nΑν η διαρροή διατοµής οφείλεται σε µή-γραµµικότητα των παραµορφώσεων του θλιβόµενου σκυροδέµατος (για παραµόρφωση ακραίας θλιβόµενης ίνας πέραν του $ε_c≈1.8f_c/E_c$), τότε:\n\n$φ_y=\\dfrac{ε_c}{ξ_y d}≈\\dfrac{1.8 f_y}{E_s ξ_y d}$ \n\nΛαµβάνεται η µικρότερη των τιµών $φ_y$ \n\nΤο ύψος της θλιβόµενης ζώνης στη διαρροή, ξy, ανηγµένο στο στατικό ύψος d, είναι:\n\n$ξ_y=(α^2A^2+2αB)^{0.5}-αA$\n\nόπου $α=\\frac{E_s}{E_c}$ και τα A, B προσδιορίζονται από τις παρακάτω εξισώσεις, εάν η διαρροή ελέγχεται από τον εφελκυόµενο οπλισµό ή από το θλιβόµενο σκυρόδεµα, αντίστοιχα:\n\n- ∆ιαρροή λόγω χάλυβα:\n\n$A=ρ+ρ'+ρ_v+\\dfrac{N}{bdf_y}$\n\n$B=ρ+ρ'δ'+0.5ρ_v(1+δ')+\\dfrac{N}{bdf_y}$\n\n- ∆ιαρροή λόγω παραµορφώσεων σκυροδέµατος:\n\n$A=ρ+ρ'+ρ_v-\\dfrac{N}{ε_c E_s bd}≈ρ+ρ'+ρ_v-\\dfrac{N}{1.8αbdf_c}$\n\n$B=ρ+ρ'δ'+0.5ρ_v(1+δ')$\n\nΣτις σχέσεις αυτές ρ, ρ' και ρv είναι τα ποσοστά του εφελκυόµενου, του θλιβόµενου και του µεταξύ τους κατανεµηµένου οπλισµού (ανηγµένα στο bd), δ'=d'/d, όπου d' η απόσταση από το κέντρο του θλιβόµενου οπλισµού µέχρι την ακραία θλιβόµενη ίνα σκυροδέµατος, b το πλάτος της θλιβόµενης ζώνης και N το αξονικό φορτίο (θετικό σε θλίψη)."
    },
    {
      "metadata": {
        "_cell_guid": "a24c09fd-bb25-4bd1-91ac-d6090c9ecb57",
        "_uuid": "b6a441639fdde5b16a41135947b09dc84c717fd6",
        "trusted": true
      },
      "cell_type": "code",
      "source": "α = Es/Ec\n\nAsteel = A_steel(ρ1, ρ2, ρv, N, b, d, fy)\nΒsteel = B_steel(ρ1, ρ2, ρv, N, b, d, δtonos, fy)\nξysteel =ξy(α, Asteel, Βsteel)\nφysteel = φy_steel(fy, Es, ξysteel, d)\n\nAconc = A_conc(ρ1, ρ2, ρv, N, b, d, α, fc)\nBconc = B_conc(ρ1, ρ2, ρv, N, b, d, δtonos)\nξyconc =ξy(α, Aconc, Bconc)\nφyconc = φy_conc(fc, Ec, ξyconc, d)\n\nprint(\"Asteel=\" + \"{0:.5f}\".format(Asteel)) \nprint(\"Βsteel=\" + \"{0:.5f}\".format(Βsteel))\nprint(\"ξysteel=\" + \"{0:.4f}\".format(ξysteel))\nprint(\"φysteel=\" + \"{0:.5f}\".format(φysteel))\nprint(\"Aconc=\" + \"{0:.5f}\".format(Aconc)) \nprint(\"Bconc=\" + \"{0:.5f}\".format(Bconc))\nprint(\"ξyconc=\" + \"{0:.4f}\".format(ξyconc))\nprint(\"φyconc=\" + \"{0:.5f}\".format(φyconc))\n\nif φysteel < φyconc:\n    φy = φysteel\n    ξy = ξysteel\nelse:\n    φy = φyconc\n    ξy = ξyconc\n\nx = ξy * d\n\nprint('')\nprint('Τελικά')\nprint(\"φy=\" + \"{0:.5f}\".format(φy))\nprint(\"ξy=\" + \"{0:.4f}\".format(ξy))\nprint(\"x=\" + \"{0:.4f}\".format(x))",
      "execution_count": 7,
      "outputs": [
        {
          "name": "stdout",
          "output_type": "stream",
          "text": "Asteel=0.00911\nΒsteel=0.00647\nξysteel=0.2393\nφysteel=0.00581\nAconc=0.00911\nBconc=0.00647\nξyconc=0.2393\nφyconc=0.00771\n\nΤελικά\nφy=0.00581\nξy=0.2393\nx=0.1555\n"
        }
      ]
    },
    {
      "metadata": {
        "_cell_guid": "464d4d95-4e65-4f7e-a9de-96865bbc0a3c",
        "_uuid": "9d07c1ca25c6faa148d6420a4168c51f61a85a43"
      },
      "cell_type": "markdown",
      "source": "### Υπολογισμός ροπής διαρροής"
    },
    {
      "metadata": {
        "_cell_guid": "a2c51648-d18a-417c-9f12-9964924a180f",
        "_uuid": "61074b842819cfc61199034e1f3583ba952e9652"
      },
      "cell_type": "markdown",
      "source": "Με δεδοµένη την καµπυλότητα στη διαρροή, η αντίστοιχη ροπή $Μ_y$ προκύπτει ως:\n\n$\\dfrac{M_y}{bd^3}=φ_y\\Bigg\\{E_c\\dfrac{ξ_y^2}{2}\\bigg(0.5(1+δ')-\\dfrac{ξ_y}{3}\\bigg) + \\bigg[ (1-ξ_y)ρ+(ξ_y-δ')ρ'+\\dfrac{ρ_v}{6}(1-δ') \\bigg]\\cdot(1-δ')\\dfrac{E_s}{2} \\Bigg\\}$\n"
    },
    {
      "metadata": {
        "_cell_guid": "a67850a4-fc99-412f-9dbe-b47d70b4c985",
        "_uuid": "e4d9dcb557a73591d7831053b8e9023f950e0c8c",
        "trusted": true
      },
      "cell_type": "code",
      "source": "My = Mycalc(b, d, φy, Ec, ξy, δtonos, ρ1, ρ2, ρv, Es)\n\nprint(\"My=\" + \"{0:.3f}\".format(My))",
      "execution_count": 8,
      "outputs": [
        {
          "name": "stdout",
          "output_type": "stream",
          "text": "My=350.350\n"
        }
      ]
    },
    {
      "metadata": {
        "_cell_guid": "dac41b60-e468-4266-bdf9-af2225842802",
        "_uuid": "1676c7d986c6173ec7c139cfcc759edfa6ab5903"
      },
      "cell_type": "markdown",
      "source": "### Υπολογισμός στροφής διαρροής"
    },
    {
      "metadata": {
        "_cell_guid": "02fef8c7-1b39-4eeb-baaf-326a7d127810",
        "_uuid": "200023895c8fe350b54c831fcbe1c7698aaeac20"
      },
      "cell_type": "markdown",
      "source": "α) Στον υπολογισµό της παραµόρφωσης πρέπει να λαµβάνεται υπόψη η συµβολή και της κάµψης και της διάτµησης.\n\nβ) Η συµβολή της κάµψης στην παραµόρφωση διαρροής µπορεί να εκτιµηθεί µε βάση την τιµή της καµπυλότητας διαρροής, $φ_y$ , η οποία µπορεί να υπολογισθεί µε βάση την υπόθεση επιπεδότητας διατοµών και µε γραµµικό νόµο σ-ε του χάλυβα και του σκυροδέµατος σε θλίψη, για µηδενική εφελκυστική αντοχή του σκυροδέµατος.\n\nγ) Σε περιοχές δοµικών στοιχείων όπου οι διαµήκεις οπλισµοί ενώνονται µε παράθεση των άκρων τους, η τιµή της καµπυλότητας διαρροής µπορεί να υπολογισθεί µε βάση τις υποθέσεις (i) ,(ii) και (iii) του εδ. (δ) της § 7.2.1\n\nδ) Εάν οι παραµορφώσεις “δ” αναφέρονται στο σύνολο του µήκους $L_s=α_sh$ στο άκρο δοµικού στοιχείου (π.χ. όταν ως δ χρησιµοποιείται η γωνία στροφής χορδής θ), τότε στη φάση της καµπτικής διαρροής το τµήµα της $θ_y$ που οφείλεται στην κάµψη, µπορεί να ληφθεί ίσο µε $(1/r)_y(Ls+a_{V}z)/3$, όπου ο όρος $a_vz$ εκφράζει την επιρροή του «µήκους µετάθεσης» των ροπών κάµψης σ’ αυτές, z είναι ο µοχλοβραχίονας εσωτερικών δυνάµεων, ο δε συντελεστής $a_V$ ισούται µε 1 εάν η τέµνουσα, $V_{R1}$, που προκαλεί λοξή ρηγµάτωση του στοιχείου, υπολείπεται της τιµής της τέµνουσας κατά την καµπτική διαρροή $V_{Mu}=M_y/L_s$, και µε 0 αν είναι µεγαλύτερη. Στην τιµή αυτή χρειάζεται να προστεθεί η συµβολή της στροφής της ακραίας διατοµής λόγω εξόλκευσης του τµήµατος των ράβδων πέραν της ακραίας διατοµής του στοιχείου. Χρειάζεται επίσης να προστεθεί η συµβολή των διατµητικών παραµορφώσεων στη $θ_y$.\n\n\n> Το µήκος $L_s$ είναι ο λόγος M/V στην ακραία διατοµή του στοιχείου, δηλαδή η απόσταση της ακραίας διατοµής από το σηµείο µηδενισµού των ροπών.\n\n> Η εξόλκευση του τµήµατος των ράβδων πέραν της διατοµής στήριξης είναι ανάλογη: (i) της µήκυνσης του χάλυβα στη διαρροή, και (ii) του µήκους που απαιτείται για την αγκύρωση των ράβδων. Εάν δεν υπάρχουν ακριβέστερα στοιχεία, η γωνία στροφής χορδής $θ_y$ στην καµπτική διαρροή στοιχείων µπορεί να εκτιµηθεί από την ακόλουθη έκφραση:\n\n> - Για δοκούς ή υποστυλώματα\n$$θ_y=φ_y\\dfrac{L_s+a_vz}{3}+0.0014 \\Big(1+1.5\\dfrac{h}{L_s} \\Big)+\\dfrac{φ_yd_bf_y}{8\\sqrt{f_c}}$$\n\n> - Για τοιχώματα\n$$θ_y=φ_y\\dfrac{L_s+a_vz}{3}+0.0013 +\\dfrac{φ_yd_bf_y}{8\\sqrt{f_c}}$$\n\n> Στις Εξ. (Σ.2) και (Σ.3), ο 1ος όρος εκφράζει την συµβολή των καµπτικών παραµορφώσεων, ο 2ος όρος εκφράζει τις µέσες διατµητικές παραµορφώσεις στο µήκος Ls, ενώ ο 3ος όρος εκφράζει την επιρροή της εξόλκευσης του τµήµατος των ράβδων πέραν της ακραίας διατοµής του στοιχείου ($f_y$ και $f_c$ σε MPa)\n\nε) Εάν οι εφελκυόµενοι διαµήκεις οπλισµοί επεκτείνονται πέραν της ακραίας διατοµής απλώς για αγκύρωση κατά το εδ. (ε) της §7.2.1, σε µήκος το οποίο δεν είναι επαρκές για την ανάπτυξη της πλήρους ροπής διαρροής (ή αστοχίας) Μy, στην ακραία διατοµή κατά το εδ. (ε) της § 7.2.1, τότε χρειάζεται να ληφθεί υπόψη η επιρροή της ελλειπούς αγκύρωσης των εφελκυοµένων ράβδων στην παραµόρφωση διαρροής του στοιχείου.\n\nστ) Αν η τέµνουσα αντοχής του στοιχείου, $V_R$, υπολείπεται της τιµής της τέµνουσας κατά την καµπτική διαρροή, $V_{Mu}=M_y/L_s$, τότε καθοριστική της διαρροής είναι η διάτµηση, οπότε η παραµόρφωση διαρροής υπολογίζεται ως το γινόµενο της $φ_y$ ή της $θ_y$ επί $V_RL_s/M_y$, ανάλογα µε το νόηµα της δ (ως φ ή ως θ)\n\n- Υπολογισμός V<sub>R</sub> \n\n$V_R=\\dfrac{h-x}{2L_s}\\cdot min(N,0.55\\cdot A_c \\cdot f_c)+ \\big(1-0.05\\cdot min(5, µ_θ^{pl}) \\big)\\Big[0.16 \\cdot max(0.5,100ρ_{tot}) \\big(1-0.16 \\cdot min(5,a_s) \\big)\\cdot \\sqrt{f_c} \\cdot A_c + V_w \\Big]$"
    },
    {
      "metadata": {
        "_cell_guid": "cf03f75d-ebce-46ac-900b-9303cd6b8720",
        "_uuid": "b64c3859616dbe3ed6cc44c5780cb8d790eb1d35",
        "trusted": true
      },
      "cell_type": "code",
      "source": "VMu = My/Ls\nVR1 = VRdc(b*1000, d*1000, h*1000, ρ1, 1.0, fc/1000, N)/1000\n\nif VR1 < VMu:\n    av=1.0\nelse:\n    av=0.0\n\n# Αρχική τιμή θy. Χωρίς τον έλεγχο με τις τέμνουσες\nθy = θycalc(φy, Ls, av, z, h, db, fy/1000, fc/1000)\n\nVw = Vwcalc(ρw, b, z, fyw)\n\nVR0 = VRcalc(h, x, Ls , N/1000, b*d, fc/1000, 0, ρtot, αs, Vw/1000)*1000\n\nprint(\"VMu=\" + \"{0:.3f}\".format(VMu) + \"kN\")\nprint(\"VR1=\" + \"{0:.3f}\".format(VR1) + \"kN\")\nprint(\"av=\" + \"{0:.1f}\".format(av))\nprint(\"θy=\" + \"{0:.4f}\".format(θy) + \" Αρχική τιμή θy. Χωρίς τον έλεγχο με τις τέμνουσες\")\n\nprint(\"Vw=\" + \"{0:.3f}\".format(Vw) + \"kN\")\nprint(\"VR0=\" + \"{0:.3f}\".format(VR0) + \"kN\")",
      "execution_count": 9,
      "outputs": [
        {
          "name": "stdout",
          "output_type": "stream",
          "text": "VMu=200.200kN\nVR1=105.620kN\nav=1.0\nθy=0.0085 Αρχική τιμή θy. Χωρίς τον έλεγχο με τις τέμνουσες\nVw=218.507kN\nVR0=282.047kN\n"
        }
      ]
    },
    {
      "metadata": {
        "_cell_guid": "7131a08c-b0af-4569-a30c-739cb73c6501",
        "_uuid": "2a67dd6a4027e3f19b32fa463216841f366103fb",
        "trusted": true
      },
      "cell_type": "code",
      "source": "xs=list()\nys=list()\n\nfor i in range(0, 100):\n    xs.append(0.1 * i)\n    ys.append(VRcalc(h, x, Ls , N/1000, b*d, fc/1000, 0.1*i, ρtot, αs, Vw/1000)*1000)\n\n    \nplt.plot(xs, ys, lw=2)\nplt.axis([0, 10, 0, 1.2*VR0])\nplt.ylabel('VR') \nplt.xlabel('Plastic ductility') #'μθpl'  \nplt.title('VR vs plastic ductility')",
      "execution_count": 10,
      "outputs": [
        {
          "data": {
            "text/plain": "Text(0.5,1,'VR vs plastic ductility')"
          },
          "execution_count": 10,
          "metadata": {},
          "output_type": "execute_result"
        },
        {
          "data": {
            "image/png": "[encoded data removed]",
            "text/plain": "<matplotlib.figure.Figure at 0x7ffaffa44710>"
          },
          "metadata": {},
          "output_type": "display_data"
        }
      ]
    },
    {
      "metadata": {
        "_cell_guid": "263c9e30-6e25-482b-8ba0-c63ab85c5e23",
        "_uuid": "9c66c792e217cf08511328ed9562049813c28212",
        "trusted": true
      },
      "cell_type": "code",
      "source": "xs=list()\nys=list()\n\nfor i in range(0, 80):\n    xs.append(0.1 * i)\n    μθpl=max(0, 0.1*i-1)\n    ys.append(VRcalc(h, x, Ls , N/1000, b*d, fc/1000, μθpl, ρtot, αs, Vw/1000)*1000)\n\n    \nplt.plot(xs, ys, lw=2)\nplt.axis([0, 8, 0, 1.2* My])\nplt.plot(xs, ys)\nplt.ylabel('VR') \nplt.xlabel('λ*θy')   \nplt.title('VR vs λ*θy')",
      "execution_count": 11,
      "outputs": [
        {
          "data": {
            "text/plain": "Text(0.5,1,'VR vs λ*θy')"
          },
          "execution_count": 11,
          "metadata": {},
          "output_type": "execute_result"
        },
        {
          "data": {
            "image/png": "[encoded data removed]",
            "text/plain": "<matplotlib.figure.Figure at 0x7ffaff9f0f60>"
          },
          "metadata": {},
          "output_type": "display_data"
        }
      ]
    },
    {
      "metadata": {
        "_cell_guid": "db188fbf-6de3-4663-863a-4446078e27bc",
        "_uuid": "d8896c98248c565e6d56109ae200a62ba93431cf",
        "trusted": true
      },
      "cell_type": "code",
      "source": "xs=list()\nys=list()\n\nfor i in range(0, 80):\n    xs.append(0.1 * i)\n    μθpl=max(0, 0.1*i-1)\n    VRi=VRcalc(h, x, Ls , N/1000, b*d, fc/1000, μθpl, ρtot, αs, Vw/1000)*1000\n    ys.append(VRi*Ls)\n\nx2s=[0, 1, 8]\ny2s=[0, My, My]\n\n\n    \nplt.plot(xs, ys, lw=2)\nplt.axis([0, 8, 0, 1.2*max(VR0*Ls, My)])\nplt.plot(x2s, y2s)\nplt.ylabel('M(VR)') \nplt.xlabel('λ*θy')   \nplt.title('M(VR) vs λ*θy')",
      "execution_count": 12,
      "outputs": [
        {
          "data": {
            "text/plain": "Text(0.5,1,'M(VR) vs λ*θy')"
          },
          "execution_count": 12,
          "metadata": {},
          "output_type": "execute_result"
        },
        {
          "data": {
            "image/png": "[encoded data removed]",
            "text/plain": "<matplotlib.figure.Figure at 0x7ffafc5c6898>"
          },
          "metadata": {},
          "output_type": "display_data"
        }
      ]
    },
    {
      "metadata": {
        "_cell_guid": "82c8638d-ec5b-480c-9951-1029a3096f7e",
        "_uuid": "5fa408057e65efd54840ed6ae19c5b61c54f31c0"
      },
      "cell_type": "markdown",
      "source": "### Τελικές τιμές στο σημείο διαρροής"
    },
    {
      "metadata": {
        "_cell_guid": "0f0df5fb-2cfe-4772-a988-8e9fc4bb131b",
        "_uuid": "cb9bc39c94410cbbc6b62cab31a30ffcae4752a3",
        "trusted": true
      },
      "cell_type": "code",
      "source": "if My<VR0*Ls:\n    ShearStatus='Δεν υπάρχει αστοχία από τέμνουσα πριν την καμπτική διαρροή'\n\nelse:\n    ShearStatus='ΠΡΟΣΟΧΗ: Υπάρχει αστοχία από τέμνουσα πριν την καμπτική διαρροή'\n    φy = φy * VR0 * Ls / My\n    θy = θy * VR0 * Ls / My\n    My = VR0 * Ls\n\nprint(ShearStatus)\n    \nprint(\"My=\" + \"{0:.3f}\".format(My))\nprint(\"φy=\" + \"{0:.6f}\".format(φy))\nprint(\"θy=\" + \"{0:.4f}\".format(θy))",
      "execution_count": 13,
      "outputs": [
        {
          "name": "stdout",
          "output_type": "stream",
          "text": "Δεν υπάρχει αστοχία από τέμνουσα πριν την καμπτική διαρροή\nMy=350.350\nφy=0.005815\nθy=0.0085\n"
        }
      ]
    },
    {
      "metadata": {
        "_cell_guid": "dfab1471-2743-4f68-ba1d-c6d897554fcd",
        "_uuid": "be406d67d7ba282d7499b81762cd945ce4db1bc4"
      },
      "cell_type": "markdown",
      "source": "### Ενεργός δυσκαμψίς. Συντελεστής για SAP"
    },
    {
      "metadata": {
        "_cell_guid": "d0853294-5722-491b-9543-6e84a31b7267",
        "_uuid": "286a423a907f6af505e75083dbd3dd6fd7f56e10",
        "trusted": true
      },
      "cell_type": "code",
      "source": "K = My * Ls / (3 * θy)\nprint(\"K=\" + \"{0:.4f}\".format(K))",
      "execution_count": 14,
      "outputs": [
        {
          "name": "stdout",
          "output_type": "stream",
          "text": "K=24098.3852\n"
        }
      ]
    },
    {
      "metadata": {
        "_cell_guid": "bdaf804d-882e-413b-8e0c-f3a759e52cb5",
        "_uuid": "218bc475f962fdd84005f78866e14db0d5191a8f",
        "trusted": true
      },
      "cell_type": "code",
      "source": "I = b * math.pow(h , 3) / 12.0\nK0 = Ec * I\n\nModFactor = K / K0\n\nprint(\"Modification Factor for SAP=\" + \"{0:.4f}\".format(ModFactor))",
      "execution_count": 15,
      "outputs": [
        {
          "name": "stdout",
          "output_type": "stream",
          "text": "Modification Factor for SAP=0.1124\n"
        }
      ]
    },
    {
      "metadata": {
        "_cell_guid": "d9c172d4-5feb-4eb0-8935-98754c7fa19a",
        "_uuid": "38a5d90e9be3f5fc996258beeca5962960a05656"
      },
      "cell_type": "markdown",
      "source": "### Στροφή αστοχίας"
    },
    {
      "metadata": {
        "_cell_guid": "aaac3c0b-c0f8-416e-9b7b-74f5167c78b4",
        "_uuid": "d9c4d91bd8b3dcfae8205b4c3beca5535cf1f5e5"
      },
      "cell_type": "markdown",
      "source": "#### - Υπολογισμός θ<sub>um</sub> \n\n$θ_{um}=0.016\\cdot(0.3^ν)\\Bigg[\\dfrac{max(0.01,ω')}{max(0.01,ω)} \\Bigg]^{0.225}\\cdot (α_s)^{0.35} \\cdot 25^{\\bigg(α\\cdot ρ_s \\cdot \\dfrac{f_{yw}}{f_c} \\bigg)}\\cdot (1.25^{100ρ_d})$\n\nόπου:\n\n- $α_s$ ο λόγος διάτμησης\n\n- $ω$, $ω'$ µηχανικό ποσοστό εφελκυόµενου και θλιβόµενου οπλισµού (ο ενδιάµεσος διαµήκης οπλισµός µεταξύ εφελκυοµένου και θλιβόµενου πέλµατος θεωρείται ως εφελκυόµενος)\n\n- $ν=\\dfrac{N}{bhf_c}=0$ \n\n- $ρ_s=\\dfrac{A_{sh}}{b\\cdot s_h}$ Το γεωµετρικό ποσοστό εγκάρσιου οπλισµού παράλληλα στη διεύθυνση της φόρτισης\n\n- $s_h=s-d_w$  Η καθαρή απόσταση των συνδετήρων\n\n- $ρ_d=0$  Το γεωµετρικό ποσοστό του δισδιαγώνιου οπλισµού\n\n- $α=\\Big( 1-\\dfrac{s_h}{2\\cdot b_c} \\Big)\\Big( 1-\\dfrac{s_h}{2\\cdot h_c} \\Big)\\Big( 1-\\dfrac{\\sum b_i^2}{6\\cdot b_c \\cdot h_c} \\Big)$\n\nΣτη σχέση του $α$ οι $b_c$ και $h_c$ είναι οι διαστάσεις του πυρήνα (µε $h_c<1.5÷2.0b_c$) και $b_i$ οι (περίπου ίσες) αποστάσεις\nµεταξύ διαµήκων ράβδων που συγκρατούνται από συνδετήρα ή άγκιστρο σιγµοειδούς εγκάρσιου συνδέσµου, κατά την περίµετρο της διατοµής. Εναλλακτικώς, µπορεί να χρησιµοποιηθεί αντί του $h_c$ το ύψος της θλιβόµενης ζώνης εντός του περισφιγµένου πυρήνα,\nοπότε ως bi θα λαµβάνονται οι αποστάσεις µεταξύ διαµήκων ράβδων κατά την εξωτερική περίµετρο της θλιβόµενης ζώνης, µε αφετηρία τον ουδέτερο άξονα.  \n$b_c=b-2\\cdot d_1$  \n$h_c=h-d_1-d_2$"
    },
    {
      "metadata": {
        "_cell_guid": "09ce74b7-fa65-4b6a-8fa9-4baab8f8fd85",
        "_uuid": "e218b7dbddb8f78ea6d9db5b59bf3f954b0d1e35",
        "trusted": true
      },
      "cell_type": "code",
      "source": "hctmp=hc\n\nif (hc>1.75*bc): hctmp=x-d2\n\nprint(\"sh=\" + \"{0:.4f}\".format(sh)+\"\")\nprint(\"bc=\" + \"{0:.4f}\".format(bc)+\"\")\nprint(\"hctmp=\" + \"{0:.4f}\".format(hctmp)+\"\")\n        \nΣbi2=2*math.pow(bc,2)+2*math.pow(hctmp,2)   # για 2τμητους μονούς συνδετήρες...περίπου\nprint(\"Σbi2=\" + \"{0:.5f}\".format(Σbi2)+\"\")\n        \nαper=(1-sh/(2*bc))*(1-sh/(2*hctmp))*(1-Σbi2/(6*bc*hctmp))   \n        \nprint(\"Συντελεστής αποδοτικότητας α=\" + \"{0:.4f}\".format(αper)+\"\")",
      "execution_count": 16,
      "outputs": [
        {
          "name": "stdout",
          "output_type": "stream",
          "text": "sh=0.1520\nbc=0.1500\nhctmp=0.1075\nΣbi2=0.06813\nΣυντελεστής αποδοτικότητας α=0.0429\n"
        }
      ]
    },
    {
      "metadata": {
        "_cell_guid": "2214d99a-fca7-4d13-a0ba-3771eedd7db8",
        "_uuid": "713be67fdc177ee3ccc08f6ec9699692781e4ab4",
        "trusted": true
      },
      "cell_type": "code",
      "source": "θum=θumcalc(ν, ω1, ω2, αs, αper, ρw, 0.0, fc/1000, fyw/1000)\n\nprint(\"θum=\" + \"{0:.4f}\".format(θum))\n",
      "execution_count": 17,
      "outputs": [
        {
          "name": "stdout",
          "output_type": "stream",
          "text": "θum=0.0366\n"
        }
      ]
    },
    {
      "metadata": {
        "_cell_guid": "8dd0a5e1-af7f-4668-bf64-1f1e2c75fb65",
        "_uuid": "494432d3fde2cf84718f018ad47b99ca02a6d8b0",
        "trusted": true
      },
      "cell_type": "code",
      "source": "μθ = θum / θy\nμθπλ = μθ -1\n\nVRμθπλ=VRcalc(h, x, Ls , N/1000, b*d, fc/1000, μθpl, ρtot, αs, Vw/1000)*1000\n\nprint(\"μθ=\" + \"{0:.3f}\".format(μθ))\nprint(\"μθπλ=\" + \"{0:.3f}\".format(μθπλ))\n\nprint(\"VRμθπλ=\" + \"{0:.3f}\".format(VRμθπλ))",
      "execution_count": 18,
      "outputs": [
        {
          "name": "stdout",
          "output_type": "stream",
          "text": "μθ=4.314\nμθπλ=3.314\nVRμθπλ=211.535\n"
        }
      ]
    },
    {
      "metadata": {
        "_cell_guid": "82c60b46-cb3b-41ce-83b5-4a38c1b53bf5",
        "_uuid": "e1af25708dc9f51d2f39cd41d88b8f10055b9d7c",
        "trusted": true
      },
      "cell_type": "code",
      "source": "υ = Symbol('υ')\nμθV=solve((((h-x)/(2*Ls))*min(N/1000, 0.55*b*d*fc/1000) + (1-0.05*υ) * (0.16*max(0.5, 100*ρtot)*(1-0.16*min(5,αs))*math.pow(fc/1000, 0.5)*b*d + Vw/1000)*1000-My/Ls),υ)[0]\n\nprint(μθV)",
      "execution_count": 19,
      "outputs": [
        {
          "name": "stdout",
          "output_type": "stream",
          "text": "5.80380799185999\n"
        }
      ]
    },
    {
      "metadata": {
        "_cell_guid": "9e4f7bd8-f7ef-4210-bcba-4b6d71a538ca",
        "_uuid": "178d4456295f3e0426982719c92b0d5a025cd143",
        "collapsed": true,
        "trusted": true
      },
      "cell_type": "code",
      "source": "if μθV<5 and μθV<μθπλ and μθπλ>0:\n    μθπλ = μθV\n    ShearStatus='ΠΡΟΣΟΧΗ: Υπάρχει αστοχία από τέμνουσα μετά την καμπτική διαρροή'\n    θum=θy*(1.0+μθV)\n    print(ShearStatus)\n    print(μθV)",
      "execution_count": 20,
      "outputs": []
    },
    {
      "metadata": {
        "_cell_guid": "6519c42c-cf21-46a7-9d33-56db2cfd86f9",
        "_uuid": "c10d5942f5e4f1f9e741b6d8f103fa039df3f42e",
        "trusted": true
      },
      "cell_type": "code",
      "source": "xs=[0, θy, θum]\nys=[0, My, My]\n\n    \nplt.plot(xs, ys, lw=2)\nplt.axis([0, 1.2*θum, 0, 1.2*My])\nplt.ylabel('M(kNm)') \nplt.xlabel('θ')   \nplt.title('M vs θ')",
      "execution_count": 21,
      "outputs": [
        {
          "data": {
            "text/plain": "Text(0.5,1,'M vs θ')"
          },
          "execution_count": 21,
          "metadata": {},
          "output_type": "execute_result"
        },
        {
          "data": {
            "image/png": "[encoded data removed]",
            "text/plain": "<matplotlib.figure.Figure at 0x7ffafc4dc6d8>"
          },
          "metadata": {},
          "output_type": "display_data"
        }
      ]
    },
    {
      "metadata": {
        "_cell_guid": "e15f1e1a-5e2b-4a13-bfd6-52c69dc636fc",
        "_uuid": "e3edb08cfe64cbcca1ae577e02f7d79f4bd24f56",
        "collapsed": true,
        "trusted": true
      },
      "cell_type": "code",
      "source": "",
      "execution_count": null,
      "outputs": []
    }
  ],
  "metadata": {
    "kernel_info": {
      "name": "python3"
    },
    "kernelspec": {
      "display_name": "Python 3",
      "language": "python",
      "name": "python3"
    },
    "language_info": {
      "codemirror_mode": {
        "name": "ipython",
        "version": 3
      },
      "file_extension": ".py",
      "mimetype": "text/x-python",
      "name": "python",
      "nbconvert_exporter": "python",
      "pygments_lexer": "ipython3",
      "version": "3.6.3"
    },
    "nteract": {
      "version": "0.3.4"
    }
  },
  "nbformat": 4,
  "nbformat_minor": 1
}